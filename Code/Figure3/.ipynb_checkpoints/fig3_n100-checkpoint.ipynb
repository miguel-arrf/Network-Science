{
 "cells": [
  {
   "cell_type": "code",
   "execution_count": 1,
   "id": "73d0dbe4-1248-494a-9918-6ecbdcbb6a92",
   "metadata": {},
   "outputs": [],
   "source": [
    "import random\n",
    "import matplotlib.pyplot as plt\n",
    "from functools import reduce\n",
    "import itertools as it\n",
    "from collections import Counter\n",
    "import numpy as np\n",
    "from matplotlib.pyplot import figure\n",
    "import seaborn as sns\n",
    "import numpy.random as npr"
   ]
  },
  {
   "cell_type": "code",
   "execution_count": 2,
   "id": "18848b79-d166-4644-a16d-4218e7c3695b",
   "metadata": {},
   "outputs": [],
   "source": [
    "n = 100\n",
    "m = 10 * n\n",
    "\n",
    "max_strat = 6\n",
    "min_strat = -5\n",
    "\n",
    "max_score = 5\n",
    "min_score = -5\n",
    "\n",
    "cost = 1\n",
    "benefit_score = 1\n",
    "benefit = 10\n",
    "\n",
    "generations = pow(10, 5)\n",
    "mutation_probability = 0.001"
   ]
  },
  {
   "cell_type": "code",
   "execution_count": 3,
   "id": "2cadafee-dcea-4cec-9324-1625e5230c29",
   "metadata": {},
   "outputs": [],
   "source": [
    "class Agent:\n",
    "    def __init__(self, strategy, score, payoff):\n",
    "        self.payoff = payoff\n",
    "        self.strategy = strategy\n",
    "        self.score = score\n",
    "        \n",
    "    def add_score(self, new_score):\n",
    "        temp_score = new_score + self.score\n",
    "        if temp_score >= min_score and temp_score <= max_score:\n",
    "             self.score = temp_score\n",
    "        elif temp_score <= min_score:\n",
    "            self.score = min_score\n",
    "        elif temp_score >= max_score:\n",
    "            self.score = max_score"
   ]
  },
  {
   "cell_type": "code",
   "execution_count": 4,
   "id": "d03471cc-5f98-481e-9354-30b7e5555330",
   "metadata": {},
   "outputs": [],
   "source": [
    "def selectOne_t(population):\n",
    "    max_value     = sum([c.payoff for c in population])\n",
    "    pick    = random.uniform(0, max_value)\n",
    "    current = 0\n",
    "    for agent in population:\n",
    "        current += agent.payoff\n",
    "        if current > pick:\n",
    "            return agent\n",
    "        \n",
    "def selectOne(population):\n",
    "    max_value = sum([c.payoff for c in population])\n",
    "    selection_probs = [c.payoff/max_value for c in population]\n",
    "    return population[npr.choice(len(population), p=selection_probs)]\n"
   ]
  },
  {
   "cell_type": "code",
   "execution_count": 5,
   "id": "48d0c4ae-c0d9-433f-8593-8094522ba129",
   "metadata": {
    "tags": []
   },
   "outputs": [],
   "source": [
    "#value = np.random.normal(loc=n/2, scale=1, size=10000)\n",
    "#plt.hist([v for v in value if (v > 0 and v < n)], bins = 100)\n",
    "#plt.show()"
   ]
  },
  {
   "cell_type": "code",
   "execution_count": 6,
   "id": "6aead14f-0770-4c9d-abab-b60cfacc796e",
   "metadata": {},
   "outputs": [
    {
     "name": "stdout",
     "output_type": "stream",
     "text": [
      "11\n"
     ]
    }
   ],
   "source": [
    "def get_number_of_agents_to_watch():\n",
    "    agents_that_watch = int(np.random.normal(loc=10, scale=1))\n",
    "    while agents_that_watch < 0 or agents_that_watch > 20: # we need to have n-2 because we don't want the donor nor the recipient to be choosen as agents that observe...\n",
    "        #we also need that the number is at least 2 because we want a donor and a recipient...\n",
    "        agents_that_watch = int(np.random.normal(loc=10, scale=1))\n",
    "    return agents_that_watch\n",
    "\n",
    "\n",
    "#def get_number_of_agents_to_watch():\n",
    "#    agents_that_watch = int(np.random.normal(loc=(0+20)/2, scale=1))\n",
    "#    while agents_that_watch < 2 or agents_that_watch > (n-2): # we need to have n-2 because we don't want the donor nor the recipient to be choosen as agents that observe...\n",
    "#        #we also need that the number is at least 2 because we want a donor and a recipient...\n",
    "#        agents_that_watch = int(np.random.normal(loc=n/2, scale=1))\n",
    "#    return agents_that_watch\n",
    "\n",
    "print(get_number_of_agents_to_watch())\n",
    "\n",
    "\n",
    "def get_random_normal_strategy():\n",
    "    random_strategy = random.randint(min_strat, max_strat)\n",
    "    #random_strategy = round(np.random.normal(loc=(min_strat+max_strat)/2, scale=5))\n",
    "    #while random_strategy < min_strat or random_strategy > (max_strat): # we need to have n-2 because we don't want the donor nor the recipient to be choosen as agents that observe...\n",
    "        #we also need that the number is at least 2 because we want a donor and a recipient...\n",
    "    #    random_strategy = round(np.random.normal(loc=(min_strat+max_strat)/2, scale=5))\n",
    "    return random_strategy"
   ]
  },
  {
   "cell_type": "code",
   "execution_count": null,
   "id": "7611824b-8a11-413a-9cb4-57b1547b9d63",
   "metadata": {},
   "outputs": [
    {
     "name": "stdout",
     "output_type": "stream",
     "text": [
      "generations: 100000\n",
      "0\n"
     ]
    },
    {
     "data": {
      "image/png": "[encoded data removed]",
      "text/plain": [
       "<Figure size 800x480 with 1 Axes>"
      ]
     },
     "metadata": {
      "needs_background": "light"
     },
     "output_type": "display_data"
    }
   ],
   "source": [
    "agents = []\n",
    "strategies_choosen = []\n",
    "agent_matrix = np.zeros((n,n))\n",
    "\n",
    "for i in range(n):\n",
    "    #agents.append(Agent(random.randint(min_strat, max_strat), 0, 0))\n",
    "    agents.append(Agent(get_random_normal_strategy(), 0,0))\n",
    "    \n",
    "print(\"generations: {}\".format(generations))\n",
    "for generation in range(int(generations)):\n",
    "    \n",
    "    if generation % 10000 == 0:\n",
    "        print(generation)\n",
    "        \n",
    "    for pair in range(m):\n",
    "        number_of_watchers = get_number_of_agents_to_watch()\n",
    "        agents_to_sample_from = random.sample(range(n), number_of_watchers)\n",
    "        donor, recipient = agents[agents_to_sample_from[0]], agents[agents_to_sample_from[1]]\n",
    "        \n",
    "        if agent_matrix[agents_to_sample_from[1]][agents_to_sample_from[0]] >= donor.strategy:\n",
    "            recipient.payoff += benefit\n",
    "            donor.payoff -= cost\n",
    "                \n",
    "            donor.add_score(benefit_score)\n",
    "\n",
    "            for observer in agents_to_sample_from:\n",
    "                if agent_matrix[agents_to_sample_from[1]][observer] >= 0:\n",
    "                    agent_matrix[agents_to_sample_from[0]][observer] += benefit_score\n",
    "                else :\n",
    "                    agent_matrix[agents_to_sample_from[0]][observer] -= benefit_score\n",
    "        else:\n",
    "            donor.add_score(-benefit_score)\n",
    "            for observer in agents_to_sample_from:\n",
    "                if agent_matrix[agents_to_sample_from[1]][observer] >= 0:\n",
    "                    agent_matrix[agents_to_sample_from[0]][observer] -= benefit_score\n",
    "                else :\n",
    "                    agent_matrix[agents_to_sample_from[0]][observer] += benefit_score\n",
    "            \n",
    "    #    recipient.payoff += c\n",
    "    #    donor.payoff += c\n",
    "    # we need to add +c because otherwise we will have trouble selecting an agent...\n",
    "    #for agent in agents:\n",
    "    #    if agent.payoff < 0:\n",
    "    #        agent.payoff = 0\n",
    "\n",
    "    current_payoffs = []\n",
    "    for agent in agents:\n",
    "        current_payoffs.append(agent.payoff)\n",
    "            \n",
    "    min_payoff = min(current_payoffs)\n",
    "        \n",
    "    if min_payoff <= 0:\n",
    "        for agent in agents:\n",
    "            agent.payoff = agent.payoff + (-1)*min_payoff + 1\n",
    "    elif min_payoff >1:\n",
    "        for agent in agents:\n",
    "            agent.payoff = agent.payoff - (min_payoff -  1)\n",
    "    \n",
    "    new_agents = []\n",
    "\n",
    "    \n",
    "    if sum([c.payoff for c in agents]) == 0:\n",
    "        for agent_toCopy in agents:\n",
    "            new_agents.append(Agent(agent_toCopy.strategy, 0,0))\n",
    "    else:\n",
    "        for agent in range(n):\n",
    "            random_value = random.uniform(0.000, 1.000)\n",
    "\n",
    "            if random_value <= mutation_probability:\n",
    "                new_agents.append(Agent(get_random_normal_strategy(), 0,0))\n",
    "            else:\n",
    "                parent = selectOne(agents)\n",
    "                new_agents.append(Agent(parent.strategy, 0,0))\n",
    "            \n",
    "    agents = new_agents\n",
    "    \n",
    "    for agent in agents:\n",
    "        strategies_choosen.append(agent.strategy)    \n",
    "        \n",
    "    if generation % 10000 == 0:\n",
    "        figure(figsize=(10, 6), dpi=80)\n",
    "        ax = plt.gca()\n",
    "        ax.set_facecolor(\"#fff4e6\")\n",
    "\n",
    "        plt.xlabel('Strategy, k')\n",
    "        plt.ylabel('Frequency')\n",
    "        strategies_choosen_np = np.array(strategies_choosen)\n",
    "        plt.hist(strategies_choosen_np, bins=np.arange(strategies_choosen_np.min(), strategies_choosen_np.max()+1)-0.5, color=sns.color_palette('Set2')[1], rwidth = 0.5, density=True)\n",
    "\n",
    "        plt.show()\n",
    "        \n",
    "    agent_matrix = np.zeros((n,n))\n",
    "    \n",
    "print(\"Done :D\")"
   ]
  },
  {
   "cell_type": "code",
   "execution_count": null,
   "id": "5ce3ceec-5b23-4f4d-b4b0-e5d465eb8fe8",
   "metadata": {},
   "outputs": [],
   "source": [
    "figure(figsize=(20, 6), dpi=280)\n",
    "ax = plt.gca()\n",
    "ax.set_facecolor(\"#fff4e6\")\n",
    "\n",
    "plt.xlabel('Strategy, k')\n",
    "plt.ylabel('Frequency')\n",
    "strategies_choosen_np = np.array(strategies_choosen)\n",
    "plt.hist(strategies_choosen_np, bins=np.arange(strategies_choosen_np.min(), strategies_choosen_np.max()+1)-0.5, color=sns.color_palette('Set2')[1], rwidth = 0.5)\n",
    "\n",
    "plt.show()"
   ]
  },
  {
   "cell_type": "code",
   "execution_count": null,
   "id": "47df7f2f-f27c-4fea-8988-539df6f80a1e",
   "metadata": {},
   "outputs": [],
   "source": []
  }
 ],
 "metadata": {
  "kernelspec": {
   "display_name": "Python 3 (ipykernel)",
   "language": "python",
   "name": "python3"
  },
  "language_info": {
   "codemirror_mode": {
    "name": "ipython",
    "version": 3
   },
   "file_extension": ".py",
   "mimetype": "text/x-python",
   "name": "python",
   "nbconvert_exporter": "python",
   "pygments_lexer": "ipython3",
   "version": "3.8.12"
  }
 },
 "nbformat": 4,
 "nbformat_minor": 5
}
