{
 "cells": [
  {
   "cell_type": "code",
   "execution_count": 1,
   "id": "7322ae89-15c2-45cd-9716-a44bddba3acd",
   "metadata": {},
   "outputs": [
    {
     "data": {
      "text/html": [
       "<svg  width=\"550\" height=\"55\"><rect x=\"0\" y=\"0\" width=\"55\" height=\"55\" style=\"fill:#a1c9f4;stroke-width:2;stroke:rgb(255,255,255)\"/><rect x=\"55\" y=\"0\" width=\"55\" height=\"55\" style=\"fill:#ffb482;stroke-width:2;stroke:rgb(255,255,255)\"/><rect x=\"110\" y=\"0\" width=\"55\" height=\"55\" style=\"fill:#8de5a1;stroke-width:2;stroke:rgb(255,255,255)\"/><rect x=\"165\" y=\"0\" width=\"55\" height=\"55\" style=\"fill:#ff9f9b;stroke-width:2;stroke:rgb(255,255,255)\"/><rect x=\"220\" y=\"0\" width=\"55\" height=\"55\" style=\"fill:#d0bbff;stroke-width:2;stroke:rgb(255,255,255)\"/><rect x=\"275\" y=\"0\" width=\"55\" height=\"55\" style=\"fill:#debb9b;stroke-width:2;stroke:rgb(255,255,255)\"/><rect x=\"330\" y=\"0\" width=\"55\" height=\"55\" style=\"fill:#fab0e4;stroke-width:2;stroke:rgb(255,255,255)\"/><rect x=\"385\" y=\"0\" width=\"55\" height=\"55\" style=\"fill:#cfcfcf;stroke-width:2;stroke:rgb(255,255,255)\"/><rect x=\"440\" y=\"0\" width=\"55\" height=\"55\" style=\"fill:#fffea3;stroke-width:2;stroke:rgb(255,255,255)\"/><rect x=\"495\" y=\"0\" width=\"55\" height=\"55\" style=\"fill:#b9f2f0;stroke-width:2;stroke:rgb(255,255,255)\"/></svg>"
      ],
      "text/plain": [
       "[(0.6313725490196078, 0.788235294117647, 0.9568627450980393),\n",
       " (1.0, 0.7058823529411765, 0.5098039215686274),\n",
       " (0.5529411764705883, 0.8980392156862745, 0.6313725490196078),\n",
       " (1.0, 0.6235294117647059, 0.6078431372549019),\n",
       " (0.8156862745098039, 0.7333333333333333, 1.0),\n",
       " (0.8705882352941177, 0.7333333333333333, 0.6078431372549019),\n",
       " (0.9803921568627451, 0.6901960784313725, 0.8941176470588236),\n",
       " (0.8117647058823529, 0.8117647058823529, 0.8117647058823529),\n",
       " (1.0, 0.996078431372549, 0.6392156862745098),\n",
       " (0.7254901960784313, 0.9490196078431372, 0.9411764705882353)]"
      ]
     },
     "execution_count": 1,
     "metadata": {},
     "output_type": "execute_result"
    }
   ],
   "source": [
    "import random\n",
    "from collections import Counter\n",
    "import networkx as nx\n",
    "import numpy as np\n",
    "import matplotlib.pyplot as plt\n",
    "from matplotlib.pyplot import figure\n",
    "import seaborn as sns\n",
    "from tqdm.notebook import tqdm, trange\n",
    "import time \n",
    "\n",
    "sns.color_palette('pastel')"
   ]
  },
  {
   "cell_type": "code",
   "execution_count": 2,
   "id": "f83fc305-7392-4022-9304-430280fddb09",
   "metadata": {},
   "outputs": [],
   "source": [
    "# Number of agents\n",
    "N = 100\n",
    "\n",
    "# Cost\n",
    "c = 0.1\n",
    "\n",
    "# Benefit\n",
    "b = 1\n",
    "\n",
    "minimum_strategy = -5\n",
    "maximum_strategy = 6\n",
    "\n",
    "minimum_image_score = -5\n",
    "maximum_image_score = 5"
   ]
  },
  {
   "cell_type": "code",
   "execution_count": 3,
   "id": "dcfb1f67-789d-444c-ac83-df6b0b6eabe7",
   "metadata": {},
   "outputs": [],
   "source": [
    "class Agent:\n",
    "    def __init__(self, strategy):\n",
    "        self.image_score = 0\n",
    "        self.payoff = 0\n",
    "        self.strategy = strategy\n",
    "\n",
    "    def increase_image_score(self):\n",
    "        temp_score = self.image_score + 1\n",
    "        if temp_score > maximum_image_score:\n",
    "            self.image_score = maximum_image_score\n",
    "        else:\n",
    "            self.image_score = temp_score\n",
    "\n",
    "    def decrease_image_score(self):\n",
    "        temp_score = self.image_score - 1\n",
    "        if temp_score < minimum_image_score:\n",
    "            self.image_score = minimum_image_score\n",
    "        else:\n",
    "            self.image_score = temp_score"
   ]
  },
  {
   "cell_type": "code",
   "execution_count": 4,
   "id": "b98e9e19-627f-4f5c-9bc2-21a7d91af4f0",
   "metadata": {},
   "outputs": [],
   "source": [
    "def play_round(m=60, iterations=150):\n",
    "    agents = []\n",
    "    coalitions = []\n",
    "    #network = nx.barabasi_albert_graph(N, 3)\n",
    "    network = nx.random_graphs.watts_strogatz_graph(N, 5, 0.1)\n",
    "\n",
    "    final_strategies = []\n",
    "    number_of_coalitions_per_round = []\n",
    "\n",
    "    for i in range(N):\n",
    "        agent = Agent(random.randint(minimum_strategy, maximum_strategy))\n",
    "        agents.append(agent)\n",
    "        network.nodes[i]['agent'] = agent\n",
    "\n",
    "    for iteration in range(iterations):\n",
    "\n",
    "        for pair_number in range(m):\n",
    "            a_i, a_j = find_players(agents)\n",
    "            change_payoff_score(a_i, a_j, network, coalitions)\n",
    "\n",
    "        for i in range(N):\n",
    "            network.nodes[i]['oldValue'] = network.nodes[i]['agent'].strategy\n",
    "        \n",
    "        for a_i in agents:\n",
    "            # Change Strategy\n",
    "            change_strategy(a_i, network)\n",
    "\n",
    "        for a_i in agents:\n",
    "            # Reset Image Score and Payoff\n",
    "            reset_image_score_and_payoff(a_i)\n",
    "\n",
    "\n",
    "    for i in range(N):\n",
    "        final_strategies.append(network.nodes[i]['agent'].strategy)\n",
    "    #print(Counter(final_strategies))\n",
    "    return final_strategies"
   ]
  },
  {
   "cell_type": "code",
   "execution_count": 5,
   "id": "47d6b2d6-4680-4c58-afb5-520a94e654bd",
   "metadata": {},
   "outputs": [],
   "source": [
    "def change_strategy(a_i, network):\n",
    "    neighbors_payoffs = []\n",
    "    neighbors_strategies = []\n",
    "\n",
    "    for neighbor in get_neighbors(a_i, network):\n",
    "        neighbors_payoffs.append(network.nodes[neighbor]['agent'].payoff)\n",
    "        neighbors_strategies.append(network.nodes[neighbor]['oldValue'])\n",
    "\n",
    "    neighbors_payoffs.append(a_i.payoff)\n",
    "    neighbors_strategies.append(a_i.strategy)\n",
    "\n",
    "    max_payoff = max(neighbors_payoffs)\n",
    "\n",
    "    for i in range(len(neighbors_payoffs)):\n",
    "        if neighbors_payoffs[i] == max_payoff:\n",
    "            a_i.strategy = neighbors_strategies[i]\n",
    "            break\n",
    "\n",
    "\n",
    "def reset_image_score_and_payoff(a_i):\n",
    "    a_i.image_score = 0\n",
    "    a_i.payoff = 0\n",
    "\n",
    "\n",
    "def change_payoff_score(a_i, a_j, network, coalitions):\n",
    "    a_j_score = 0\n",
    "    if is_neighbor(a_i, a_j, network):\n",
    "        a_j_score = a_j.image_score\n",
    "\n",
    "    if a_i.strategy <= a_j_score:\n",
    "        a_i.payoff -= c\n",
    "        a_j.payoff += b\n",
    "        a_i.increase_image_score()\n",
    "    else:\n",
    "        a_i.decrease_image_score()\n",
    "\n",
    "\n",
    "def get_neighbors(a_i, network):\n",
    "    for node, node_data in network.nodes(data=True):\n",
    "        if network.nodes[node]['agent'] == a_i:\n",
    "            return network.neighbors(node)\n",
    "\n",
    "\n",
    "def is_neighbor(a_i, a_j, network):\n",
    "    for node, node_data in network.nodes(data=True):\n",
    "        if network.nodes[node]['agent'] == a_i:\n",
    "            for neighbor in network.neighbors(node):\n",
    "                if network.nodes[neighbor]['agent'] == a_j:\n",
    "                    return True\n",
    "            break\n",
    "    return False\n",
    "\n",
    "\n",
    "def find_players(agents):\n",
    "    a_i, a_j = random.sample(agents, 2)\n",
    "    while a_i == a_j:\n",
    "        a_i, a_j = random.sample(agents, 2)\n",
    "    return a_i, a_j"
   ]
  },
  {
   "cell_type": "code",
   "execution_count": 6,
   "id": "4900f9f1-ab4f-47e1-b3e0-972ffedfcd72",
   "metadata": {},
   "outputs": [
    {
     "data": {
      "application/vnd.jupyter.widget-view+json": {
       "model_id": "96c9e7a6a997465b96021557770116ce",
       "version_major": 2,
       "version_minor": 0
      },
      "text/plain": [
       "  0%|          | 0/1000 [00:00<?, ?it/s]"
      ]
     },
     "metadata": {},
     "output_type": "display_data"
    },
    {
     "ename": "KeyboardInterrupt",
     "evalue": "",
     "output_type": "error",
     "traceback": [
      "\u001b[0;31m---------------------------------------------------------------------------\u001b[0m",
      "\u001b[0;31mKeyboardInterrupt\u001b[0m                         Traceback (most recent call last)",
      "\u001b[0;32m/var/folders/8b/9lvvppx52qsb_6t495m00vfm0000gn/T/ipykernel_3140/3831579121.py\u001b[0m in \u001b[0;36m<module>\u001b[0;34m\u001b[0m\n\u001b[1;32m      1\u001b[0m \u001b[0mstrategies\u001b[0m \u001b[0;34m=\u001b[0m \u001b[0;34m[\u001b[0m\u001b[0;34m]\u001b[0m\u001b[0;34m\u001b[0m\u001b[0;34m\u001b[0m\u001b[0m\n\u001b[1;32m      2\u001b[0m \u001b[0;32mfor\u001b[0m \u001b[0mi\u001b[0m \u001b[0;32min\u001b[0m \u001b[0mtrange\u001b[0m\u001b[0;34m(\u001b[0m\u001b[0;36m1000\u001b[0m\u001b[0;34m)\u001b[0m\u001b[0;34m:\u001b[0m\u001b[0;34m\u001b[0m\u001b[0;34m\u001b[0m\u001b[0m\n\u001b[0;32m----> 3\u001b[0;31m     \u001b[0mvalues\u001b[0m \u001b[0;34m=\u001b[0m \u001b[0mplay_round\u001b[0m\u001b[0;34m(\u001b[0m\u001b[0mm\u001b[0m\u001b[0;34m=\u001b[0m\u001b[0;36m200\u001b[0m\u001b[0;34m,\u001b[0m \u001b[0miterations\u001b[0m\u001b[0;34m=\u001b[0m \u001b[0;36m600\u001b[0m\u001b[0;34m)\u001b[0m\u001b[0;34m\u001b[0m\u001b[0;34m\u001b[0m\u001b[0m\n\u001b[0m\u001b[1;32m      4\u001b[0m     \u001b[0;32mfor\u001b[0m \u001b[0mvalue\u001b[0m \u001b[0;32min\u001b[0m \u001b[0mvalues\u001b[0m\u001b[0;34m:\u001b[0m\u001b[0;34m\u001b[0m\u001b[0;34m\u001b[0m\u001b[0m\n\u001b[1;32m      5\u001b[0m         \u001b[0mstrategies\u001b[0m\u001b[0;34m.\u001b[0m\u001b[0mappend\u001b[0m\u001b[0;34m(\u001b[0m\u001b[0mvalue\u001b[0m\u001b[0;34m)\u001b[0m\u001b[0;34m\u001b[0m\u001b[0;34m\u001b[0m\u001b[0m\n",
      "\u001b[0;32m/var/folders/8b/9lvvppx52qsb_6t495m00vfm0000gn/T/ipykernel_3140/1047985199.py\u001b[0m in \u001b[0;36mplay_round\u001b[0;34m(m, iterations)\u001b[0m\n\u001b[1;32m     17\u001b[0m         \u001b[0;32mfor\u001b[0m \u001b[0mpair_number\u001b[0m \u001b[0;32min\u001b[0m \u001b[0mrange\u001b[0m\u001b[0;34m(\u001b[0m\u001b[0mm\u001b[0m\u001b[0;34m)\u001b[0m\u001b[0;34m:\u001b[0m\u001b[0;34m\u001b[0m\u001b[0;34m\u001b[0m\u001b[0m\n\u001b[1;32m     18\u001b[0m             \u001b[0ma_i\u001b[0m\u001b[0;34m,\u001b[0m \u001b[0ma_j\u001b[0m \u001b[0;34m=\u001b[0m \u001b[0mfind_players\u001b[0m\u001b[0;34m(\u001b[0m\u001b[0magents\u001b[0m\u001b[0;34m)\u001b[0m\u001b[0;34m\u001b[0m\u001b[0;34m\u001b[0m\u001b[0m\n\u001b[0;32m---> 19\u001b[0;31m             \u001b[0mchange_payoff_score\u001b[0m\u001b[0;34m(\u001b[0m\u001b[0ma_i\u001b[0m\u001b[0;34m,\u001b[0m \u001b[0ma_j\u001b[0m\u001b[0;34m,\u001b[0m \u001b[0mnetwork\u001b[0m\u001b[0;34m,\u001b[0m \u001b[0mcoalitions\u001b[0m\u001b[0;34m)\u001b[0m\u001b[0;34m\u001b[0m\u001b[0;34m\u001b[0m\u001b[0m\n\u001b[0m\u001b[1;32m     20\u001b[0m \u001b[0;34m\u001b[0m\u001b[0m\n\u001b[1;32m     21\u001b[0m         \u001b[0;32mfor\u001b[0m \u001b[0mi\u001b[0m \u001b[0;32min\u001b[0m \u001b[0mrange\u001b[0m\u001b[0;34m(\u001b[0m\u001b[0mN\u001b[0m\u001b[0;34m)\u001b[0m\u001b[0;34m:\u001b[0m\u001b[0;34m\u001b[0m\u001b[0;34m\u001b[0m\u001b[0m\n",
      "\u001b[0;32m/var/folders/8b/9lvvppx52qsb_6t495m00vfm0000gn/T/ipykernel_3140/1587633037.py\u001b[0m in \u001b[0;36mchange_payoff_score\u001b[0;34m(a_i, a_j, network, coalitions)\u001b[0m\n\u001b[1;32m     25\u001b[0m \u001b[0;32mdef\u001b[0m \u001b[0mchange_payoff_score\u001b[0m\u001b[0;34m(\u001b[0m\u001b[0ma_i\u001b[0m\u001b[0;34m,\u001b[0m \u001b[0ma_j\u001b[0m\u001b[0;34m,\u001b[0m \u001b[0mnetwork\u001b[0m\u001b[0;34m,\u001b[0m \u001b[0mcoalitions\u001b[0m\u001b[0;34m)\u001b[0m\u001b[0;34m:\u001b[0m\u001b[0;34m\u001b[0m\u001b[0;34m\u001b[0m\u001b[0m\n\u001b[1;32m     26\u001b[0m     \u001b[0ma_j_score\u001b[0m \u001b[0;34m=\u001b[0m \u001b[0;36m0\u001b[0m\u001b[0;34m\u001b[0m\u001b[0;34m\u001b[0m\u001b[0m\n\u001b[0;32m---> 27\u001b[0;31m     \u001b[0;32mif\u001b[0m \u001b[0mis_neighbor\u001b[0m\u001b[0;34m(\u001b[0m\u001b[0ma_i\u001b[0m\u001b[0;34m,\u001b[0m \u001b[0ma_j\u001b[0m\u001b[0;34m,\u001b[0m \u001b[0mnetwork\u001b[0m\u001b[0;34m)\u001b[0m\u001b[0;34m:\u001b[0m\u001b[0;34m\u001b[0m\u001b[0;34m\u001b[0m\u001b[0m\n\u001b[0m\u001b[1;32m     28\u001b[0m         \u001b[0ma_j_score\u001b[0m \u001b[0;34m=\u001b[0m \u001b[0ma_j\u001b[0m\u001b[0;34m.\u001b[0m\u001b[0mimage_score\u001b[0m\u001b[0;34m\u001b[0m\u001b[0;34m\u001b[0m\u001b[0m\n\u001b[1;32m     29\u001b[0m \u001b[0;34m\u001b[0m\u001b[0m\n",
      "\u001b[0;32m/var/folders/8b/9lvvppx52qsb_6t495m00vfm0000gn/T/ipykernel_3140/1587633037.py\u001b[0m in \u001b[0;36mis_neighbor\u001b[0;34m(a_i, a_j, network)\u001b[0m\n\u001b[1;32m     44\u001b[0m \u001b[0;32mdef\u001b[0m \u001b[0mis_neighbor\u001b[0m\u001b[0;34m(\u001b[0m\u001b[0ma_i\u001b[0m\u001b[0;34m,\u001b[0m \u001b[0ma_j\u001b[0m\u001b[0;34m,\u001b[0m \u001b[0mnetwork\u001b[0m\u001b[0;34m)\u001b[0m\u001b[0;34m:\u001b[0m\u001b[0;34m\u001b[0m\u001b[0;34m\u001b[0m\u001b[0m\n\u001b[1;32m     45\u001b[0m     \u001b[0;32mfor\u001b[0m \u001b[0mnode\u001b[0m\u001b[0;34m,\u001b[0m \u001b[0mnode_data\u001b[0m \u001b[0;32min\u001b[0m \u001b[0mnetwork\u001b[0m\u001b[0;34m.\u001b[0m\u001b[0mnodes\u001b[0m\u001b[0;34m(\u001b[0m\u001b[0mdata\u001b[0m\u001b[0;34m=\u001b[0m\u001b[0;32mTrue\u001b[0m\u001b[0;34m)\u001b[0m\u001b[0;34m:\u001b[0m\u001b[0;34m\u001b[0m\u001b[0;34m\u001b[0m\u001b[0m\n\u001b[0;32m---> 46\u001b[0;31m         \u001b[0;32mif\u001b[0m \u001b[0mnetwork\u001b[0m\u001b[0;34m.\u001b[0m\u001b[0mnodes\u001b[0m\u001b[0;34m[\u001b[0m\u001b[0mnode\u001b[0m\u001b[0;34m]\u001b[0m\u001b[0;34m[\u001b[0m\u001b[0;34m'agent'\u001b[0m\u001b[0;34m]\u001b[0m \u001b[0;34m==\u001b[0m \u001b[0ma_i\u001b[0m\u001b[0;34m:\u001b[0m\u001b[0;34m\u001b[0m\u001b[0;34m\u001b[0m\u001b[0m\n\u001b[0m\u001b[1;32m     47\u001b[0m             \u001b[0;32mfor\u001b[0m \u001b[0mneighbor\u001b[0m \u001b[0;32min\u001b[0m \u001b[0mnetwork\u001b[0m\u001b[0;34m.\u001b[0m\u001b[0mneighbors\u001b[0m\u001b[0;34m(\u001b[0m\u001b[0mnode\u001b[0m\u001b[0;34m)\u001b[0m\u001b[0;34m:\u001b[0m\u001b[0;34m\u001b[0m\u001b[0;34m\u001b[0m\u001b[0m\n\u001b[1;32m     48\u001b[0m                 \u001b[0;32mif\u001b[0m \u001b[0mnetwork\u001b[0m\u001b[0;34m.\u001b[0m\u001b[0mnodes\u001b[0m\u001b[0;34m[\u001b[0m\u001b[0mneighbor\u001b[0m\u001b[0;34m]\u001b[0m\u001b[0;34m[\u001b[0m\u001b[0;34m'agent'\u001b[0m\u001b[0;34m]\u001b[0m \u001b[0;34m==\u001b[0m \u001b[0ma_j\u001b[0m\u001b[0;34m:\u001b[0m\u001b[0;34m\u001b[0m\u001b[0;34m\u001b[0m\u001b[0m\n",
      "\u001b[0;32m~/opt/anaconda3/lib/python3.8/site-packages/networkx/classes/reportviews.py\u001b[0m in \u001b[0;36m__getitem__\u001b[0;34m(self, n)\u001b[0m\n\u001b[1;32m    186\u001b[0m \u001b[0;34m\u001b[0m\u001b[0m\n\u001b[1;32m    187\u001b[0m     \u001b[0;32mdef\u001b[0m \u001b[0m__getitem__\u001b[0m\u001b[0;34m(\u001b[0m\u001b[0mself\u001b[0m\u001b[0;34m,\u001b[0m \u001b[0mn\u001b[0m\u001b[0;34m)\u001b[0m\u001b[0;34m:\u001b[0m\u001b[0;34m\u001b[0m\u001b[0;34m\u001b[0m\u001b[0m\n\u001b[0;32m--> 188\u001b[0;31m         \u001b[0;32mif\u001b[0m \u001b[0misinstance\u001b[0m\u001b[0;34m(\u001b[0m\u001b[0mn\u001b[0m\u001b[0;34m,\u001b[0m \u001b[0mslice\u001b[0m\u001b[0;34m)\u001b[0m\u001b[0;34m:\u001b[0m\u001b[0;34m\u001b[0m\u001b[0;34m\u001b[0m\u001b[0m\n\u001b[0m\u001b[1;32m    189\u001b[0m             raise nx.NetworkXError(\n\u001b[1;32m    190\u001b[0m                 \u001b[0;34mf\"{type(self).__name__} does not support slicing, \"\u001b[0m\u001b[0;34m\u001b[0m\u001b[0;34m\u001b[0m\u001b[0m\n",
      "\u001b[0;31mKeyboardInterrupt\u001b[0m: "
     ]
    }
   ],
   "source": [
    "strategies = []\n",
    "for i in trange(1000):\n",
    "    values = play_round(m=200, iterations= 600)\n",
    "    for value in values:\n",
    "        strategies.append(value)\n",
    "    \n"
   ]
  },
  {
   "cell_type": "code",
   "execution_count": null,
   "id": "98c486dd-fddd-4d88-b722-a2b2deb09404",
   "metadata": {},
   "outputs": [],
   "source": [
    "import altair as alt\n",
    "import pandas as pd\n",
    "\n",
    "percentages = []\n",
    "percentages.append(len([strat for strat in strategies if strat == 1])/len(strategies))\n",
    "percentages.append(len([strat for strat in strategies if strat == 2])/len(strategies))\n",
    "percentages.append(len([strat for strat in strategies if strat == 3])/len(strategies))\n",
    "percentages.append(len([strat for strat in strategies if strat == 4])/len(strategies))\n",
    "percentages.append(len([strat for strat in strategies if strat == 5])/len(strategies))\n",
    "percentages.append(len([strat for strat in strategies if strat == 6])/len(strategies))\n",
    "\n",
    "\n",
    "data = pd.DataFrame({'Strategy': np.array([1,2,3,4,5,6]),'Frequency':np.array(percentages),  'color':['#F2994A' for c in range(len(percentages))]})\n",
    "\n",
    "\n",
    "bar = alt.Chart(data).mark_bar(\n",
    "    cornerRadiusTopLeft=3,\n",
    "    cornerRadiusTopRight=3\n",
    ").encode(x=alt.X('x', scale=alt.Scale(domain=(minimum_strategy, maximum_strategy))), y='Frequency', ).encode(\n",
    "    x=alt.X('Strategy', scale=alt.Scale(domain=(minimum_strategy, maximum_strategy))),\n",
    "    color=alt.Color('color', scale=None)\n",
    ")\n",
    "\n",
    "\n",
    "rule = alt.Chart(data).mark_rule(color='red').encode(\n",
    "    y='mean(Frequency):Q'\n",
    ")\n",
    "\n",
    "\n",
    "(bar + rule)\n",
    "\n"
   ]
  },
  {
   "cell_type": "code",
   "execution_count": null,
   "id": "10a24126-fd9a-48b3-b60e-d1d592333c25",
   "metadata": {},
   "outputs": [],
   "source": [
    "\n",
    "alt.Chart(data).mark_bar().transform_fold(\n",
    "    fold=['Strategy', 'Frequency'], \n",
    "    as_=['x', 'y']\n",
    ").encode(\n",
    "    x='Strategy',\n",
    "    y='Frequency',\n",
    "    color=alt.Color('Strategy:N', legend=alt.Legend(columns=2))\n",
    ")"
   ]
  },
  {
   "cell_type": "code",
   "execution_count": null,
   "id": "47cc4074-5988-4c5e-902c-9b219fa64c44",
   "metadata": {},
   "outputs": [],
   "source": []
  },
  {
   "cell_type": "code",
   "execution_count": null,
   "id": "b3155622-5fe3-4afb-adfd-6743de97d752",
   "metadata": {},
   "outputs": [],
   "source": []
  }
 ],
 "metadata": {
  "kernelspec": {
   "display_name": "Python 3 (ipykernel)",
   "language": "python",
   "name": "python3"
  },
  "language_info": {
   "codemirror_mode": {
    "name": "ipython",
    "version": 3
   },
   "file_extension": ".py",
   "mimetype": "text/x-python",
   "name": "python",
   "nbconvert_exporter": "python",
   "pygments_lexer": "ipython3",
   "version": "3.8.12"
  }
 },
 "nbformat": 4,
 "nbformat_minor": 5
}
