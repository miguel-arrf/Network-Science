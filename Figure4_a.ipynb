{
 "cells": [
  {
   "cell_type": "code",
   "execution_count": 1,
   "id": "142fd7c3",
   "metadata": {},
   "outputs": [],
   "source": [
    "import random\n",
    "import matplotlib.pyplot as plt\n",
    "from functools import reduce\n",
    "import itertools as it\n",
    "from collections import Counter\n",
    "import numpy as np\n",
    "import numpy.random as npr\n",
    "from tqdm.notebook import tqdm, trange\n",
    "import time    # to be used in loop iterations\n"
   ]
  },
  {
   "cell_type": "code",
   "execution_count": 2,
   "id": "e88cdee7",
   "metadata": {},
   "outputs": [],
   "source": [
    "agent_num = 100\n",
    "gen_num = pow(10,4)\n",
    "pair_num = 500\n",
    "\n",
    "max_strat = 6\n",
    "min_strat = -5\n",
    "\n",
    "max_score = 5\n",
    "min_score = -5\n",
    "\n",
    "cost = 1\n",
    "benefit_score = 1\n",
    "benefit = 10\n",
    "\n",
    "sim_number = pow(10,2)\n",
    "graphs_to_display = [0,10,20,150]"
   ]
  },
  {
   "cell_type": "code",
   "execution_count": 3,
   "id": "7b5a149a",
   "metadata": {},
   "outputs": [],
   "source": [
    "class Agent:\n",
    "    def __init__(self, strategy, strategy_h, score, payoff):\n",
    "        self.payoff = payoff\n",
    "        self.strategy_h = strategy_h\n",
    "        self.strategy = strategy\n",
    "        self.score = score\n",
    "        \n",
    "    def add_score(self, new_score):\n",
    "        temp_score = new_score + self.score\n",
    "        if temp_score >= min_score and temp_score <= max_score:\n",
    "             self.score = temp_score\n",
    "        elif temp_score < min_score:\n",
    "            self.score = min_score\n",
    "        elif temp_score > max_score:\n",
    "            self.score = max_score\n",
    "\n",
    "                    \n",
    "def selectOne(population):\n",
    "    max_value = sum([c.payoff for c in population])\n",
    "    selection_probs = [c.payoff/max_value for c in population]\n",
    "    return population[npr.choice(len(population), p=selection_probs)]"
   ]
  },
  {
   "cell_type": "code",
   "execution_count": 4,
   "id": "c0e7780f",
   "metadata": {},
   "outputs": [
    {
     "data": {
      "application/vnd.jupyter.widget-view+json": {
       "model_id": "02bdb3b0d0c8462e83b13416e08cab21",
       "version_major": 2,
       "version_minor": 0
      },
      "text/plain": [
       "  0%|          | 0/100 [00:00<?, ?it/s]"
      ]
     },
     "metadata": {},
     "output_type": "display_data"
    },
    {
     "data": {
      "image/png": "[encoded data removed]",
      "text/plain": [
       "<Figure size 432x288 with 1 Axes>"
      ]
     },
     "metadata": {
      "needs_background": "light"
     },
     "output_type": "display_data"
    },
    {
     "name": "stdout",
     "output_type": "stream",
     "text": [
      "Counter({2: 24918048, 3: 20939127, 1: 19943369, 4: 11042754, 0: 8967085, 5: 6097942, -1: 3994673, 6: 2083696, -5: 1003463, -4: 996658, -3: 6790, -2: 6395})\n"
     ]
    },
    {
     "data": {
      "image/png": "[encoded data removed]",
      "text/plain": [
       "<Figure size 432x288 with 1 Axes>"
      ]
     },
     "metadata": {
      "needs_background": "light"
     },
     "output_type": "display_data"
    },
    {
     "data": {
      "image/png": "[encoded data removed]",
      "text/plain": [
       "<Figure size 432x288 with 1 Axes>"
      ]
     },
     "metadata": {
      "needs_background": "light"
     },
     "output_type": "display_data"
    },
    {
     "data": {
      "image/png": "[encoded data removed]",
      "text/plain": [
       "<Figure size 432x288 with 1 Axes>"
      ]
     },
     "metadata": {
      "needs_background": "light"
     },
     "output_type": "display_data"
    }
   ],
   "source": [
    "def get_random_normal_strategy():\n",
    "    return random.randint(min_strat, max_strat)\n",
    "\n",
    "\n",
    "\n",
    "\n",
    "strategies_to_print = {}\n",
    "strategies = []\n",
    "\n",
    "for sim in trange(sim_number) :\n",
    "    #print(\"Simulation \", sim)\n",
    "    \n",
    "    agents = []\n",
    "    \n",
    "    for i in range(agent_num):\n",
    "        agents.append(Agent(get_random_normal_strategy(),get_random_normal_strategy(), 0,0))\n",
    "    \n",
    "    ###### GENERATION ######\n",
    "        \n",
    "        \n",
    "    for gen in range(gen_num) :\n",
    "        \n",
    "                \n",
    "        ###### PAIRS ######\n",
    "        \n",
    "        for agent in agents:\n",
    "            strategies.append((agent.strategy,agent.strategy_h))\n",
    "        \n",
    "        for pair in range(pair_num) :\n",
    "            donor,recipient = random.sample(agents, 2)\n",
    "            \n",
    "\n",
    "            if recipient.score >= donor.strategy and donor.score < donor.strategy_h:\n",
    "                recipient.payoff += benefit\n",
    "                donor.payoff -= cost\n",
    "                donor.add_score(benefit_score)\n",
    "            else:\n",
    "                donor.add_score(-benefit_score)\n",
    "              \n",
    "            \n",
    "         \n",
    "        ###### END PAIRS ######\n",
    "\n",
    "        \n",
    "        #### PAYOFF TRANSLATION/NORMALIZATION ####\n",
    "        current_payoffs = []\n",
    "        for agent in agents:\n",
    "            current_payoffs.append(agent.payoff)\n",
    "\n",
    "        min_payoff = min(current_payoffs)\n",
    "\n",
    "        if min_payoff <= 0:\n",
    "            for agent in agents:\n",
    "                agent.payoff = agent.payoff + (-1)*min_payoff + 1\n",
    "        elif min_payoff >1:\n",
    "            for agent in agents:\n",
    "                agent.payoff = agent.payoff - (min_payoff -  1)\n",
    "        #### END OF PAYOFF TRANSLATION/NORMALIZATION ####\n",
    "\n",
    "      \n",
    "        new_agents = []\n",
    "        agents.sort(key=lambda x: x.payoff, reverse=True)\n",
    "        for agent in range(len(agents)):\n",
    "            parent = selectOne(agents)\n",
    "            #parent = FitnessChoices(agents,ProbabilityList(agents), 1 )[0]\n",
    "            new_agents.append(Agent(parent.strategy,parent.strategy_h, 0,0))\n",
    "       \n",
    "        \n",
    "        agents = new_agents\n",
    "        \n",
    "    \n",
    "        #for agent in agents:\n",
    "        #    strategies.append((agent.strategy,agent.strategy_h))\n",
    "    \n",
    " \n",
    "    \n",
    "    ###### END GENERATIONS ######\n",
    "    current_strategy = []\n",
    "    for agent in agents:\n",
    "        current_strategy.append((agent.strategy,agent.strategy_h))\n",
    "        \n",
    "\n",
    "\n",
    "strat_normal = []\n",
    "strat_h = []\n",
    "\n",
    "strat_normal_last = []\n",
    "strat_h_last = []\n",
    "\n",
    "for c in strategies:\n",
    "    strat_normal.append(c[0])\n",
    "    strat_h.append(c[1])\n",
    "\n",
    "for c in current_strategy:\n",
    "    strat_normal_last.append(c[0])\n",
    "    strat_h_last.append(c[1])\n",
    "\n",
    "plt.hist(strat_normal, bins=30)\n",
    "plt.ylabel('')\n",
    "plt.xlabel(\"Strategy_normal\")\n",
    "plt.show()\n",
    "\n",
    "print(Counter(c[1] for c in strategies))\n",
    "\n",
    "plt.hist(strat_h, bins=30)\n",
    "plt.ylabel('')\n",
    "plt.xlabel(\"Strategy_h\")\n",
    "plt.show()\n",
    "\n",
    "\n",
    "plt.scatter(strat_normal, strat_h, alpha=0.1)\n",
    "plt.show()\n",
    "\n",
    "plt.scatter(strat_normal_last, strat_h_last, alpha=0.1)\n",
    "plt.show()"
   ]
  },
  {
   "cell_type": "code",
   "execution_count": 7,
   "id": "c5c6d623-f0fa-4ed8-b536-67c5667b37b9",
   "metadata": {},
   "outputs": [
    {
     "data": {
      "image/png": "[encoded data removed]",
      "text/plain": [
       "<Figure size 432x288 with 1 Axes>"
      ]
     },
     "metadata": {
      "needs_background": "light"
     },
     "output_type": "display_data"
    }
   ],
   "source": [
    "heatmap, xedges, yedges = np.histogram2d(strat_normal, strat_h, bins=50)\n",
    "extent = [xedges[0], xedges[-1], yedges[0], yedges[-1]]\n",
    "\n",
    "plt.clf()\n",
    "plt.imshow(heatmap.T, extent=extent, origin='lower')\n",
    "plt.show()\n"
   ]
  },
  {
   "cell_type": "code",
   "execution_count": 8,
   "id": "9846ad2e-fffa-4265-bf1d-f092840d1f60",
   "metadata": {},
   "outputs": [
    {
     "data": {
      "image/png": "[encoded data removed]",
      "text/plain": [
       "<Figure size 432x432 with 3 Axes>"
      ]
     },
     "metadata": {
      "needs_background": "light"
     },
     "output_type": "display_data"
    }
   ],
   "source": [
    "import seaborn as sns\n",
    "sns.jointplot(x=strat_normal, y=strat_h, kind='hex')\n",
    "plt.show()"
   ]
  },
  {
   "cell_type": "code",
   "execution_count": null,
   "id": "ddcb3947-8bc2-4aac-8357-3dc99e4585e4",
   "metadata": {},
   "outputs": [],
   "source": []
  }
 ],
 "metadata": {
  "kernelspec": {
   "display_name": "Python 3 (ipykernel)",
   "language": "python",
   "name": "python3"
  },
  "language_info": {
   "codemirror_mode": {
    "name": "ipython",
    "version": 3
   },
   "file_extension": ".py",
   "mimetype": "text/x-python",
   "name": "python",
   "nbconvert_exporter": "python",
   "pygments_lexer": "ipython3",
   "version": "3.8.12"
  }
 },
 "nbformat": 4,
 "nbformat_minor": 5
}
